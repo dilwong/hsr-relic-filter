{
 "cells": [
  {
   "cell_type": "code",
   "execution_count": null,
   "metadata": {},
   "outputs": [],
   "source": [
    "import requests\n",
    "from bs4 import BeautifulSoup\n",
    "import re\n",
    "import time\n",
    "from itertools import chain\n",
    "import difflib\n",
    "import pandas as pd\n",
    "from collections import defaultdict\n",
    "from typing import List, Dict"
   ]
  },
  {
   "cell_type": "code",
   "execution_count": null,
   "metadata": {},
   "outputs": [],
   "source": [
    "elemental_boosts = [\n",
    "    'Physical DMG Boost',\n",
    "    'Fire DMG Boost',\n",
    "    'Ice DMG Boost',\n",
    "    'Wind DMG Boost',\n",
    "    'Lightning DMG Boost',\n",
    "    'Quantum DMG Boost',\n",
    "    'Imaginary DMG Boost'\n",
    "]\n",
    "\n",
    "relic_pieces_to_possible_main_stats = {\n",
    "    'Head': ['HP'],\n",
    "    'Hands': ['ATK'],\n",
    "    'Body': ['HP%', 'ATK%', 'DEF%', 'Effect Hit Rate', 'Outgoing Healing Boost', 'CRIT Rate', 'CRIT DMG'],\n",
    "    'Feet': ['HP%', 'ATK%', 'DEF%', 'SPD'],\n",
    "    'Planar Sphere': ['HP%', 'ATK%', 'DEF%', 'Physical DMG Boost', *elemental_boosts],\n",
    "    'Link Rope': ['HP%', 'ATK%', 'DEF%', 'Break Effect', 'Energy Regeneration Rate']\n",
    "}\n",
    "\n",
    "all_possible_main_stats = set(chain.from_iterable(relic_pieces_to_possible_main_stats.values()))\n",
    "\n",
    "all_possible_substats = set([\n",
    "    'HP', 'ATK', 'DEF',\n",
    "    'HP%', 'ATK%', 'DEF%',\n",
    "    'Break Effect', 'Effect Hit Rate', 'Effect Res',\n",
    "    'CRIT Rate', 'CRIT DMG',\n",
    "    'SPD'\n",
    "])\n",
    "unwanted_flat_substats = set(['HP', 'ATK', 'DEF'])"
   ]
  },
  {
   "cell_type": "code",
   "execution_count": null,
   "metadata": {},
   "outputs": [],
   "source": [
    "# characters_url = 'https://www.prydwen.gg/star-rail/characters'\n",
    "characters_url = 'https://www.prydwen.gg/star-rail/tier-list'\n",
    "character_soup = BeautifulSoup(requests.get(characters_url).text, 'html.parser')\n",
    "\n",
    "all_links = [a_tag for a_tag in character_soup.find_all('a')]\n",
    "character_link_regex = re.compile(r'^/star-rail/characters/(.*)$')\n",
    "character_matches = [(a_tag, character_link_regex.match(a_tag.get('href'))) for a_tag in all_links]\n",
    "characters_to_tags = {match_.group(1): a_tag for a_tag, match_ in character_matches if match_ is not None}\n",
    "characters = sorted(characters_to_tags)"
   ]
  },
  {
   "cell_type": "code",
   "execution_count": null,
   "metadata": {},
   "outputs": [],
   "source": [
    "characters_to_soups = dict()\n",
    "for character in characters:\n",
    "    print(f'Getting page for {character}')\n",
    "    try:\n",
    "        time.sleep(2)\n",
    "        url = f'https://www.prydwen.gg/star-rail/characters/{character}'\n",
    "        response = requests.get(url)\n",
    "        soup = BeautifulSoup(response.content.decode('utf-8'), 'html.parser')\n",
    "        characters_to_soups[character] = soup\n",
    "    except Exception:\n",
    "        print(f'\\tFailed to get page for {character}')"
   ]
  },
  {
   "cell_type": "code",
   "execution_count": null,
   "metadata": {},
   "outputs": [],
   "source": [
    "def get_proper_name_of_main_stat(name: str):\n",
    "    if name.lower() == 'anything':\n",
    "        return 'Anything'\n",
    "    main_stat_candidates = {main_stat for main_stat in all_possible_main_stats if main_stat not in ['HP', 'ATK']}\n",
    "    name = difflib.get_close_matches(name, main_stat_candidates, n=1, cutoff=0)[0]\n",
    "    return name\n",
    "\n",
    "def process_relic_main_stats(relic_stat_lists):\n",
    "    relic_main_stats_dict = dict()\n",
    "    for relic in relic_stat_lists:\n",
    "        relic_main_stats_dict[relic[0]] = [get_proper_name_of_main_stat(main_stat) for main_stat in relic[1:]]\n",
    "    return relic_main_stats_dict\n",
    "\n",
    "def remove_prefix(text: str, prefix: str):\n",
    "    if text.startswith(prefix):\n",
    "        return text[len(prefix):]\n",
    "    return text\n",
    "\n",
    "def check_if_substat_in_substat_desc(substat: str, substat_desc: str) -> bool:\n",
    "    substat_desc = substat_desc.upper()\n",
    "    alt_names = {\n",
    "        'HP': 'HP%',\n",
    "        'DEF': 'DEF%',\n",
    "        'ATK': 'ATK%',\n",
    "        'SPEED': 'SPD',\n",
    "        'EFF RES': 'EFFECT RES',\n",
    "        'EHR': 'EFFECT HIT RATE',\n",
    "        'BREAK EFF': 'BREAK EFFECT'\n",
    "    }\n",
    "    for key, value in alt_names.items():\n",
    "        substat_desc = substat_desc.replace(key, value)\n",
    "    return substat.upper() in substat_desc\n",
    "\n",
    "def merge_dictionaries(dicts: List[Dict[str, List]]) -> Dict[str, List]:\n",
    "    merged_dict = defaultdict(set)\n",
    "    \n",
    "    for d in dicts:\n",
    "        for key, value in d.items():\n",
    "            merged_dict[key].update(value)\n",
    "    \n",
    "    return {key: sorted(values) for key, values in merged_dict.items()}"
   ]
  },
  {
   "cell_type": "code",
   "execution_count": null,
   "metadata": {},
   "outputs": [],
   "source": [
    "characters_to_relics = dict()\n",
    "characters_to_main_stats = dict()\n",
    "characters_to_substats = dict()\n",
    "characters_to_urls = dict()\n",
    "characters_to_imgs = dict()\n",
    "characters_to_substat_desc = dict()\n",
    "\n",
    "for character in characters_to_soups:\n",
    "\n",
    "    soup = characters_to_soups[character]\n",
    "    for script in soup([\"script\", \"style\"]):\n",
    "        script.decompose()\n",
    "\n",
    "    if \"build information aren't available yet. They will be added when the character is released.\" in soup.get_text():\n",
    "        continue\n",
    "\n",
    "    character_name = soup.select('div.character-top strong')[0].get_text()\n",
    "\n",
    "    all_relics = set(img_tag.get('alt', '') for build_relics_div in soup.find_all('div', class_='build-relics') for img_tag in build_relics_div.find_all('img'))\n",
    "    all_relics.discard('')\n",
    "    characters_to_relics[character_name] = all_relics\n",
    "\n",
    "    main_stat_dicts = []\n",
    "    for main_stat_info in soup.select('div.main-stats'):\n",
    "        main_stat_dicts.append(process_relic_main_stats([main_stat_tag.find_all(string=True) for main_stat_tag in main_stat_info.select('div.box')]))\n",
    "    characters_to_main_stats[character_name] = merge_dictionaries(main_stat_dicts)\n",
    "\n",
    "    best_relic_substats = '\\n'.join(\n",
    "        [remove_prefix(o.text, 'Substats:')\n",
    "         for o in soup.select('div.tab-inside')[2].select('div.build-stats div.sub-stats')\n",
    "         if o.text.lower().startswith('substats:')\n",
    "        ]\n",
    "    )\n",
    "    characters_to_substat_desc[character_name] = best_relic_substats\n",
    "    characters_to_substats[character_name] = [substat for substat in all_possible_substats.difference(unwanted_flat_substats) if check_if_substat_in_substat_desc(substat, best_relic_substats)]\n",
    "\n",
    "    characters_to_urls[character_name] = f'/star-rail/characters/{character}'\n",
    "    characters_to_imgs[character_name] = characters_to_tags[character].select('img')[2].get('src')"
   ]
  },
  {
   "cell_type": "code",
   "execution_count": null,
   "metadata": {},
   "outputs": [],
   "source": [
    "def flatten_dictionary_to_tuples(d, parent_keys=None):\n",
    "    if parent_keys is None:\n",
    "        parent_keys = []\n",
    "    items = []\n",
    "    for key, value in d.items():\n",
    "        current_keys = parent_keys + [key]\n",
    "        if isinstance(value, dict):\n",
    "            items.extend(flatten_dictionary_to_tuples(value, current_keys))\n",
    "        elif isinstance(value, (list, set)):\n",
    "            for element in value:\n",
    "                items.append(current_keys + [element])\n",
    "        else:\n",
    "            items.append(current_keys + [value])\n",
    "    return items"
   ]
  },
  {
   "cell_type": "code",
   "execution_count": null,
   "metadata": {},
   "outputs": [],
   "source": [
    "(\n",
    "    pd.DataFrame(flatten_dictionary_to_tuples(characters_to_relics), columns=['Character', 'Relic Set'])\n",
    "    .sort_values(by=['Character', 'Relic Set'])\n",
    "    .to_csv('../tables/characters_to_relics.csv', index=False)\n",
    ")"
   ]
  },
  {
   "cell_type": "code",
   "execution_count": null,
   "metadata": {},
   "outputs": [],
   "source": [
    "pd.DataFrame(flatten_dictionary_to_tuples(characters_to_main_stats), columns=['Character', 'Relic Piece', 'Main Stat']).to_csv('../tables/characters_to_main_stats.csv', index=False)"
   ]
  },
  {
   "cell_type": "code",
   "execution_count": null,
   "metadata": {},
   "outputs": [],
   "source": [
    "(\n",
    "    pd.DataFrame(flatten_dictionary_to_tuples(characters_to_substats), columns=['Character', 'Substat'])\n",
    "    .sort_values(by=['Character', 'Substat'])\n",
    "    .to_csv('../tables/characters_to_substats.csv', index=False)\n",
    ")"
   ]
  },
  {
   "cell_type": "code",
   "execution_count": null,
   "metadata": {},
   "outputs": [],
   "source": [
    "pd.DataFrame(flatten_dictionary_to_tuples(characters_to_urls), columns=['Character', 'URL']).to_csv('../tables/characters_to_urls.csv', index=False)"
   ]
  },
  {
   "cell_type": "code",
   "execution_count": null,
   "metadata": {},
   "outputs": [],
   "source": [
    "pd.DataFrame(flatten_dictionary_to_tuples(characters_to_imgs), columns=['Character', 'IMG']).to_csv('../tables/characters_to_imgs.csv', index=False)"
   ]
  },
  {
   "cell_type": "code",
   "execution_count": null,
   "metadata": {},
   "outputs": [],
   "source": [
    "relics_url = 'https://www.prydwen.gg/star-rail/guides/relic-sets'\n",
    "relic_soup = BeautifulSoup(requests.get(relics_url).text, 'html.parser')"
   ]
  },
  {
   "cell_type": "code",
   "execution_count": null,
   "metadata": {},
   "outputs": [],
   "source": [
    "relics_to_imgs = {\n",
    "    relic_box_tag.select('h4')[0].text: relic_box_tag.select('div.hsr-relic-image img')[2].get('src')\n",
    "    for relic_box_tag in relic_soup.select('div.hsr-relic-box')\n",
    "}\n",
    "relics_to_desc = {\n",
    "    relic_box_tag.select('h4')[0].text: '\\n'.join([desc_tag.get_text().strip() for desc_tag in relic_box_tag.select('div.hsr-set-description')[0].select('div')])\n",
    "    for relic_box_tag in relic_soup.select('div.hsr-relic-box')\n",
    "}"
   ]
  },
  {
   "cell_type": "code",
   "execution_count": null,
   "metadata": {},
   "outputs": [],
   "source": [
    "pd.DataFrame(flatten_dictionary_to_tuples(relics_to_imgs), columns=['Relic Set', 'IMG']).to_csv('../tables/relics_to_imgs.csv', index=False)"
   ]
  },
  {
   "cell_type": "code",
   "execution_count": null,
   "metadata": {},
   "outputs": [],
   "source": [
    "pd.DataFrame(flatten_dictionary_to_tuples(relics_to_desc), columns=['Relic Set', 'DESCRIPTION']).to_csv('../tables/relics_to_desc.csv', index=False)"
   ]
  },
  {
   "cell_type": "code",
   "execution_count": null,
   "metadata": {},
   "outputs": [],
   "source": [
    "pd.DataFrame(flatten_dictionary_to_tuples(relic_pieces_to_possible_main_stats), columns=['Relic Piece', 'Main Stat']).to_csv('../tables/piece_to_main_stat.csv', index=False)"
   ]
  },
  {
   "cell_type": "code",
   "execution_count": null,
   "metadata": {},
   "outputs": [],
   "source": [
    "pd.DataFrame(flatten_dictionary_to_tuples(characters_to_substat_desc), columns=['Character', 'Substat INFO']).to_csv('../tables/characters_to_substat_desc.csv', index=False)"
   ]
  },
  {
   "cell_type": "code",
   "execution_count": null,
   "metadata": {},
   "outputs": [],
   "source": []
  }
 ],
 "metadata": {
  "kernelspec": {
   "display_name": "timeseries",
   "language": "python",
   "name": "python3"
  },
  "language_info": {
   "codemirror_mode": {
    "name": "ipython",
    "version": 3
   },
   "file_extension": ".py",
   "mimetype": "text/x-python",
   "name": "python",
   "nbconvert_exporter": "python",
   "pygments_lexer": "ipython3",
   "version": "3.9.16"
  }
 },
 "nbformat": 4,
 "nbformat_minor": 2
}
